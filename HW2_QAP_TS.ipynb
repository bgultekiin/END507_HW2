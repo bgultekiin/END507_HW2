{
 "cells": [
  {
   "cell_type": "code",
   "execution_count": 1,
   "metadata": {},
   "outputs": [],
   "source": [
    "import numpy as np\n",
    "import random\n",
    "\n",
    "iteration = 200\n",
    "tabu_tenure = 17\n",
    "sol_len = 20\n",
    "N = 190 # number of neighbors C(20,2)"
   ]
  },
  {
   "cell_type": "code",
   "execution_count": 2,
   "metadata": {},
   "outputs": [],
   "source": [
    "flow =[[0, 0, 5,0, 5,2,10,3,1, 5, 5, 5, 0, 0, 5, 4, 4, 0, 0, 1 ],\n",
    "        [0, 0, 3,10,5,1, 5,1,2, 4, 2, 5, 0,10,10, 3, 0, 5,10, 5 ],\n",
    "        [5, 3, 0,2, 0,5, 2,4,4, 5, 0, 0, 0, 5, 1, 0, 0, 5, 0, 0 ],\n",
    "        [0,10, 2,0, 1,0, 5,2,1, 0,10, 2, 2, 0, 2, 1, 5, 2, 5, 5 ],\n",
    "        [5, 5, 0,1, 0,5, 6,5,2, 5, 2, 0, 5, 1, 1, 1, 5, 2, 5, 1 ],\n",
    "        [2, 1, 5,0, 5,0, 5,2,1, 6, 0, 0,10, 0, 2, 0, 1, 0, 1, 5 ],\n",
    "        [10,5, 2,5, 6,5, 0,0,0, 0, 5,10, 2, 2, 5, 1, 2, 1, 0,10 ],\n",
    "        [3, 1, 4,2, 5,2, 0,0,1, 1,10,10, 2, 0,10, 2, 5, 2, 2,10 ],\n",
    "        [1, 2, 4,1, 2,1, 0,1,0, 2, 0, 3, 5, 5, 0, 5, 0, 0, 0, 2 ],\n",
    "        [5,4, 5,0, 5,6, 0,1,2, 0, 5, 5, 0, 5, 1, 0, 0, 5, 5, 2 ],\n",
    "        [5,2, 0,10,2,0, 5,10,0,5, 0, 5, 2, 5, 1,10, 0, 2, 2, 5 ],\n",
    "        [5,5, 0,2, 0,0,10,10,3,5, 5, 0, 2,10, 5, 0, 1, 1, 2, 5 ],\n",
    "        [0,0, 0,2, 5,10,2,2, 5,0, 2, 2, 0, 2, 2, 1, 0, 0, 0, 5 ],\n",
    "        [0,10,5,0, 1,0, 2,0, 5,5, 5,10, 2, 0, 5, 5, 1, 5, 5, 0 ],\n",
    "        [5,10,1,2, 1,2, 5,10,0,1, 1, 5, 2, 5, 0, 3, 0, 5,10,10 ],\n",
    "        [4, 3,0,1, 1,0, 1,2, 5,0,10, 0, 1, 5, 3, 0, 0, 0, 2, 0 ],\n",
    "        [4, 0,0,5, 5,1, 2,5, 0,0, 0, 1, 0, 1, 0, 0, 0, 5, 2, 0 ],\n",
    "        [0, 5,5,2, 2,0, 1,2, 0,5, 2, 1, 0, 5, 5, 0, 5, 0, 1, 1 ],\n",
    "        [0,10,0,5, 5,1, 0,2, 0,5, 2, 2, 0, 5,10, 2, 2, 1, 0, 6 ],\n",
    "        [1, 5,0,5, 1,5,10,10,2,2, 5, 5, 5, 0,10, 0, 0, 1, 6, 0 ]]\n",
    "\n",
    "dist =[[0,1,2,3,4,1,2,3,4, 5, 2, 3, 4, 5, 6, 3, 4, 5, 6, 7 ],\n",
    "        [1,0,1,2,3,2,1,2,3, 4, 3, 2, 3, 4, 5, 4, 3, 4, 5, 6 ],\n",
    "        [2,1,0,1,2,3,2,1,2, 3, 4, 3, 2, 3, 4, 5, 4, 3, 4, 5 ],\n",
    "        [3,2,1,0,1,4,3,2,1, 2, 5, 4, 3, 2, 3, 6, 5, 4, 3, 4 ],\n",
    "        [4,3,2,1,0,5,4,3,2, 1, 6, 5, 4, 3, 2, 7, 6, 5, 4, 3 ],\n",
    "        [1,2,3,4,5,0,1,2,3, 4, 1, 2, 3, 4, 5, 2, 3, 4, 5, 6 ],\n",
    "        [2,1,2,3,4,1,0,1,2, 3, 2, 1, 2, 3, 4, 3, 2, 3, 4, 5 ],\n",
    "        [3,2,1,2,3,2,1,0,1, 2, 3, 2, 1, 2, 3, 4, 3, 2, 3, 4 ],\n",
    "        [4,3,2,1,2,3,2,1,0, 1, 4, 3, 2, 1, 2, 5, 4, 3, 2, 3 ],\n",
    "        [5,4,3,2,1,4,3,2,1,0, 5, 4, 3, 2, 1, 6, 5, 4, 3, 2 ],\n",
    "        [2,3,4,5,6,1,2,3,4,5, 0, 1, 2, 3, 4, 1, 2, 3, 4, 5 ],\n",
    "        [3,2,3,4,5,2,1,2,3,4, 1, 0, 1, 2, 3, 2, 1, 2, 3, 4 ],\n",
    "        [4,3,2,3,4,3,2,1,2,3, 2, 1, 0, 1, 2, 3, 2, 1, 2, 3 ],\n",
    "        [5,4,3,2,3,4,3,2,1,2, 3, 2, 1, 0, 1, 4, 3, 2, 1, 2 ],\n",
    "        [6,5,4,3,2,5,4,3,2,1, 4, 3, 2, 1, 0, 5, 4, 3, 2, 1 ],\n",
    "        [3,4,5,6,7,2,3,4,5,6, 1, 2, 3, 4, 5, 0, 1, 2, 3, 4 ],\n",
    "        [4,3,4,5,6,3,2,3,4,5, 2, 1, 2, 3, 4, 1, 0, 1, 2, 3 ],\n",
    "        [5,4,3,4,5,4,3,2,3,4, 3, 2, 1, 2, 3, 2, 1, 0, 1, 2 ],\n",
    "        [6,5,4,3,4,5,4,3,2,3, 4, 3, 2, 1, 2, 3, 2, 1, 0, 1 ],\n",
    "        [7,6,5,4,3,6,5,4,3,2, 5, 4, 3, 2, 1, 4, 3, 2, 1, 0 ]]\n"
   ]
  },
  {
   "cell_type": "code",
   "execution_count": 3,
   "metadata": {},
   "outputs": [],
   "source": [
    "def costFunc(sol):\n",
    "  cost=0\n",
    "  for i in range(sol_len):\n",
    "    for j in range(sol_len):\n",
    "        cost+=dist[i][j] *flow[sol[i]][sol[j]]\n",
    "  return cost"
   ]
  },
  {
   "cell_type": "code",
   "execution_count": 4,
   "metadata": {},
   "outputs": [],
   "source": [
    "neighbors = np.zeros((N, sol_len +2), dtype=int)\n",
    "\"\"\"2 Opt Neighborhood \"\"\" \n",
    "def swap(sol_n):\n",
    "    global idx, neighbors\n",
    "    for i in range (sol_len):\n",
    "        j=i+1\n",
    "        for j in range(sol_len):\n",
    "            if  i<j:\n",
    "                idx=idx+1\n",
    "                sol_n[j], sol_n[i] = sol_n[i], sol_n[j]\n",
    "                neighbors[idx, :-2] = sol_n\n",
    "                neighbors[idx, -2:] = [sol_n[i], sol_n[j]]\n",
    "                sol_n[i], sol_n[j] = sol_n[j], sol_n[i]"
   ]
  },
  {
   "cell_type": "code",
   "execution_count": 5,
   "metadata": {},
   "outputs": [],
   "source": [
    "def not_in_tabu (solution, tabu):\n",
    "    not_found = False\n",
    "    if not solution.tolist() in tabu:\n",
    "        solution[0], solution[1] = solution[1], solution[0]\n",
    "        if not solution.tolist() in tabu:\n",
    "            not_found = True\n",
    "\n",
    "    return not_found"
   ]
  },
  {
   "cell_type": "code",
   "execution_count": 6,
   "metadata": {},
   "outputs": [
    {
     "name": "stdout",
     "output_type": "stream",
     "text": [
      "[19, 8, 11, 16, 0, 13, 7, 12, 3, 10, 15, 2, 1, 18, 17, 14, 5, 6, 9, 4]\n",
      "[0, 6, 13, 8, 5, 14, 17, 12, 18, 2, 1, 10, 7, 9, 11, 19, 4, 3, 16, 15]\n",
      "[5, 9, 10, 6, 16, 2, 11, 3, 15, 4, 0, 19, 13, 1, 7, 14, 18, 8, 17, 12]\n"
     ]
    }
   ],
   "source": [
    "'''Initial Solution Generation'''\n",
    "random.seed(5)\n",
    "ini_sol1=random.sample(range(sol_len), sol_len)\n",
    "ini_sol2=random.sample(range(sol_len), sol_len)\n",
    "ini_sol3=random.sample(range(sol_len), sol_len)\n",
    "print(ini_sol1)\n",
    "print(ini_sol2)\n",
    "print(ini_sol3)"
   ]
  },
  {
   "cell_type": "code",
   "execution_count": 7,
   "metadata": {},
   "outputs": [
    {
     "name": "stdout",
     "output_type": "stream",
     "text": [
      "Initial: [19, 8, 11, 16, 0, 13, 7, 12, 3, 10, 15, 2, 1, 18, 17, 14, 5, 6, 9, 4] cost: 3330 \n",
      "Best sol [8, 2, 9, 13, 17, 15, 10, 11, 1, 3, 12, 7, 19, 14, 18, 5, 0, 6, 4, 16] cost: 2570 \n"
     ]
    }
   ],
   "source": [
    "def tabu_search():\n",
    "    global neighbors, iteration, idx\n",
    "    cur_sol = ini_sol1\n",
    "    inc_sol = cur_sol\n",
    "    Tabu = []\n",
    "    frequency = {}\n",
    "\n",
    "    print(\"Initial: %s cost: %s \" % (cur_sol, costFunc(cur_sol)))\n",
    "    while iteration > 0:\n",
    "\n",
    "        idx = -1\n",
    "        swap(cur_sol)  # make a move to neighbors\n",
    "\n",
    "        cost = np.zeros((len(neighbors)))  # holds the cost of the neighbors\n",
    "        for index in range(len(neighbors)):\n",
    "            cost[index] = costFunc(neighbors[index, :-2])  # evaluate the cost of the candidate neighbors\n",
    "        rank = np.argsort(cost)  # sorted index based on  cost\n",
    "        neighbors = neighbors[rank]\n",
    "        \n",
    "        for j in range(N):\n",
    "\n",
    "            not_tabu = not_in_tabu(neighbors[j, -2:], Tabu)  #holds tabu movements. example:[2,4]\n",
    "            if (not_tabu ):\n",
    "                cur_sol = neighbors[j, :-2].tolist()         #update current solution\n",
    "                Tabu.append(neighbors[j, -2:].tolist())      #add this movement to the tabu list\n",
    "\n",
    "                if len(Tabu) > tabu_tenure-1:                #if tabu list is full, remove the oldest movement\n",
    "                    Tabu = Tabu[1:]\n",
    "\n",
    "                #frequency based\n",
    "                if not tuple(cur_sol) in frequency.keys():\n",
    "                    frequency[tuple(cur_sol)] = 1 # set key->penality -> to One\n",
    "\n",
    "                    if costFunc(cur_sol) <  costFunc(inc_sol):\n",
    "                        inc_sol = cur_sol\n",
    "                      \n",
    "                else:\n",
    "\n",
    "                    cur_cost= costFunc(cur_sol) + frequency[tuple(cur_sol)] # penalize by frequency\n",
    "                    frequency[tuple(cur_sol)] += 1   # increament the frequency for the current visit\n",
    "\n",
    "                    if cur_cost <  costFunc(inc_sol):\n",
    "                        inc_sol = cur_sol\n",
    "\n",
    "                break\n",
    "\n",
    "            #Aspiration\n",
    "\n",
    "            elif costFunc(neighbors[j, :-2]) <  costFunc(inc_sol):\n",
    "\n",
    "                cur_sol = neighbors[j, :-2].tolist()\n",
    "\n",
    "                Tabu.insert(0, Tabu.pop(Tabu.index(neighbors[j, -2:].tolist())))\n",
    "\n",
    "                #Tabu.append(neighbors[j, -2:].tolist())\n",
    "\n",
    "                if len(Tabu) > tabu_tenure - 1:\n",
    "                    Tabu = Tabu[1:]\n",
    "\n",
    "                    # frequency based\n",
    "                if not tuple(cur_sol) in frequency.keys():\n",
    "                    frequency[tuple(cur_sol)] = 1  # set key->penality -> to One\n",
    "                    inc_sol = cur_sol\n",
    "                    \n",
    "                else:\n",
    "\n",
    "                    cur_cost= costFunc(cur_sol) + frequency[tuple(cur_sol)] # penalize by frequency\n",
    "                    frequency[tuple(cur_sol)] += 1   # increament the frequency for the current visit\n",
    "\n",
    "                    if cur_cost <  costFunc(inc_sol):\n",
    "                        inc_sol = cur_sol\n",
    "\n",
    "        iteration -= 1\n",
    "    print(\"Best sol %s cost: %s \" % (inc_sol, costFunc(inc_sol)))\n",
    "    \n",
    "\n",
    "\n",
    "if __name__== \"__main__\": \n",
    "    tabu_search()\n"
   ]
  }
 ],
 "metadata": {
  "kernelspec": {
   "display_name": "Python 3",
   "language": "python",
   "name": "python3"
  },
  "language_info": {
   "codemirror_mode": {
    "name": "ipython",
    "version": 3
   },
   "file_extension": ".py",
   "mimetype": "text/x-python",
   "name": "python",
   "nbconvert_exporter": "python",
   "pygments_lexer": "ipython3",
   "version": "3.8.5"
  }
 },
 "nbformat": 4,
 "nbformat_minor": 4
}
